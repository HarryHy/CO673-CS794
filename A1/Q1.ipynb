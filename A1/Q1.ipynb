{
 "cells": [
  {
   "cell_type": "code",
   "execution_count": 1,
   "metadata": {},
   "outputs": [],
   "source": [
    "import numpy as np"
   ]
  },
  {
   "cell_type": "code",
   "execution_count": 2,
   "metadata": {},
   "outputs": [],
   "source": [
    "X = [[1,1],[1,-1],[-1,1],[-1,-1]]\n",
    "X = np.array(X)"
   ]
  },
  {
   "cell_type": "code",
   "execution_count": 3,
   "metadata": {},
   "outputs": [],
   "source": [
    "Y = [[1],[1],[1],[-1]]\n",
    "Y = np.array(Y)\n",
    "#w = np.zeros(Y.shape[0])"
   ]
  },
  {
   "cell_type": "code",
   "execution_count": 4,
   "metadata": {},
   "outputs": [],
   "source": [
    "n,d = X.shape\n"
   ]
  },
  {
   "cell_type": "code",
   "execution_count": 5,
   "metadata": {},
   "outputs": [
    {
     "data": {
      "text/plain": [
       "array([[ 1,  1],\n",
       "       [ 1, -1],\n",
       "       [-1,  1],\n",
       "       [-1, -1]])"
      ]
     },
     "execution_count": 5,
     "metadata": {},
     "output_type": "execute_result"
    }
   ],
   "source": [
    "X\n",
    "# y = np.inner(X, w)\n",
    "# y"
   ]
  },
  {
   "cell_type": "code",
   "execution_count": 6,
   "metadata": {},
   "outputs": [],
   "source": [
    "def func(w,X,Y):\n",
    "    \n",
    "    Y_hat = np.inner(X,w)\n",
    "    \n",
    "    res = 0.0\n",
    "    for i in range(n):\n",
    "        res += np.log(1 + np.exp(-Y_hat[i] * Y[i]))\n",
    "    \n",
    "    res = res/n \n",
    "    return res[0]"
   ]
  },
  {
   "cell_type": "code",
   "execution_count": null,
   "metadata": {},
   "outputs": [],
   "source": []
  },
  {
   "cell_type": "code",
   "execution_count": 7,
   "metadata": {},
   "outputs": [],
   "source": [
    "def gradient(w,X,Y):\n",
    "    \n",
    "    G = np.zeros(d+1)\n",
    "    Y_hat = np.inner(X,w) \n",
    "    \n",
    "    for j in range(d+1):\n",
    "        res = 0.0\n",
    "        for i in range(n):\n",
    "            res += (1/(1 + np.exp(-Y_hat[i] * Y[i])) * np.exp(-Y_hat[i] * Y[i]) * (-Y[i]) * X[i][j])\n",
    "        \n",
    "        G[j] = res[0]/n\n",
    "    \n",
    "    return G"
   ]
  },
  {
   "cell_type": "code",
   "execution_count": 8,
   "metadata": {},
   "outputs": [],
   "source": [
    "def gd(X,Y,eta,ls=True,tol = 0.001, maxiter = 1000,print_f=False,acc = False):\n",
    "    n,d = X.shape\n",
    "    b = np.ones((X.shape[0],X.shape[1]+1))\n",
    "    b[:,:-1] = X\n",
    "    X = b\n",
    "    w = np.zeros((d+1))\n",
    "    res = []\n",
    "    \n",
    "    #Armijo's Rule\n",
    "    \n",
    "    if ls :\n",
    "        '''\n",
    "        h = func(w,X,Y)\n",
    "        while(func((w-eta*(np.linalg.norm(gradient(w,X,Y)))),X,Y) > (func(w,X,Y) - (eta*(np.linalg.norm(gradient(w,X,Y)))**2)/2) ):\n",
    "            eta = eta/2\n",
    "        '''\n",
    "        h = func(w,X,Y)\n",
    "        while(h > (func(w,X,Y) - (eta*(np.linalg.norm(gradient(w,X,Y))) **2)/2) ):\n",
    "            eta = eta/2\n",
    "            h = func((w-eta*(gradient(w,X,Y))),X,Y)\n",
    "        \n",
    "            \n",
    "    ###Gradient descent \n",
    "    for t in range(maxiter):\n",
    "        g = gradient(w,X,Y)\n",
    "        \n",
    "        #some printing\n",
    "        if print_f == True:\n",
    "            res.append(np.linalg.norm(w))\n",
    "        \n",
    "        elif acc == True:\n",
    "            pred = 0.0\n",
    "            Y_hat = np.inner(X,w) \n",
    "            for i in range(n):\n",
    "                b = Y_hat[i] * Y[i]\n",
    "                if b >0:\n",
    "                    pred +=1\n",
    "            pred = pred/n\n",
    "            res.append(pred)\n",
    "\n",
    "        else:\n",
    "            res.append(func(w,X,Y))   \n",
    "        ###Gradient descent \n",
    "        if np.linalg.norm(g) <=tol:\n",
    "            break\n",
    "        else:\n",
    "            w = w- eta*g\n",
    "          #some printing\n",
    "        \n",
    "    return res"
   ]
  },
  {
   "cell_type": "code",
   "execution_count": 9,
   "metadata": {},
   "outputs": [],
   "source": [
    "a = []\n",
    "\n",
    "a = gd(X,Y,4/3,ls=False, tol = 0.001, maxiter =1000)"
   ]
  },
  {
   "cell_type": "code",
   "execution_count": 10,
   "metadata": {},
   "outputs": [],
   "source": [
    "import matplotlib.pyplot as plt"
   ]
  },
  {
   "cell_type": "code",
   "execution_count": 11,
   "metadata": {},
   "outputs": [
    {
     "data": {
      "text/plain": [
       "[<matplotlib.lines.Line2D at 0x121e865b0>]"
      ]
     },
     "execution_count": 11,
     "metadata": {},
     "output_type": "execute_result"
    },
    {
     "data": {
      "image/png": "[encoded data removed]",
      "text/plain": [
       "<Figure size 432x288 with 1 Axes>"
      ]
     },
     "metadata": {
      "needs_background": "light"
     },
     "output_type": "display_data"
    }
   ],
   "source": [
    "plt.plot(a)"
   ]
  },
  {
   "cell_type": "code",
   "execution_count": null,
   "metadata": {},
   "outputs": [],
   "source": []
  },
  {
   "cell_type": "code",
   "execution_count": 12,
   "metadata": {},
   "outputs": [],
   "source": [
    "b = []\n",
    "b = gd(X,Y,eta = 4/3,ls=True, tol = 0.001, maxiter =1000)"
   ]
  },
  {
   "cell_type": "code",
   "execution_count": 13,
   "metadata": {},
   "outputs": [
    {
     "data": {
      "text/plain": [
       "[<matplotlib.lines.Line2D at 0x121f7b2e0>]"
      ]
     },
     "execution_count": 13,
     "metadata": {},
     "output_type": "execute_result"
    },
    {
     "data": {
      "image/png": "[encoded data removed]",
      "text/plain": [
       "<Figure size 432x288 with 1 Axes>"
      ]
     },
     "metadata": {
      "needs_background": "light"
     },
     "output_type": "display_data"
    }
   ],
   "source": [
    "plt.plot(b)"
   ]
  },
  {
   "cell_type": "code",
   "execution_count": 14,
   "metadata": {},
   "outputs": [],
   "source": [
    "c = []\n",
    "\n",
    "c = gd(X,Y,4/3,ls=True, tol = 0.001, maxiter =1000,print_f = True)"
   ]
  },
  {
   "cell_type": "code",
   "execution_count": 15,
   "metadata": {},
   "outputs": [
    {
     "data": {
      "text/plain": [
       "[<matplotlib.lines.Line2D at 0x12205e5e0>]"
      ]
     },
     "execution_count": 15,
     "metadata": {},
     "output_type": "execute_result"
    },
    {
     "data": {
      "image/png": "[encoded data removed]",
      "text/plain": [
       "<Figure size 432x288 with 1 Axes>"
      ]
     },
     "metadata": {
      "needs_background": "light"
     },
     "output_type": "display_data"
    }
   ],
   "source": [
    "plt.plot(c)"
   ]
  },
  {
   "cell_type": "code",
   "execution_count": 16,
   "metadata": {},
   "outputs": [],
   "source": [
    "class_acc = []\n",
    "\n",
    "class_acc = gd(X,Y,4/3,ls=False, tol = 0.001, maxiter =1000,acc = True)"
   ]
  },
  {
   "cell_type": "code",
   "execution_count": 17,
   "metadata": {},
   "outputs": [
    {
     "data": {
      "text/plain": [
       "[<matplotlib.lines.Line2D at 0x1220b5af0>]"
      ]
     },
     "execution_count": 17,
     "metadata": {},
     "output_type": "execute_result"
    },
    {
     "data": {
      "image/png": "[encoded data removed]",
      "text/plain": [
       "<Figure size 432x288 with 1 Axes>"
      ]
     },
     "metadata": {
      "needs_background": "light"
     },
     "output_type": "display_data"
    }
   ],
   "source": [
    "plt.plot(class_acc)"
   ]
  },
  {
   "cell_type": "code",
   "execution_count": 18,
   "metadata": {},
   "outputs": [],
   "source": [
    "#1.5\n",
    "def gd(X,Y,eta,ls=True,tol = 0.001, maxiter = 1000):\n",
    "    n,d = X.shape\n",
    "    b = np.ones((X.shape[0],X.shape[1]+1))\n",
    "    b[:,:-1] = X\n",
    "    X = b\n",
    "    w = np.zeros((d+1))\n",
    "    \n",
    "    #Armijo's Rule\n",
    "    \n",
    "    if ls :\n",
    "        '''\n",
    "        h = func(w,X,Y)\n",
    "        while(func((w-eta*(np.linalg.norm(gradient(w,X,Y)))),X,Y) > (func(w,X,Y) - (eta*(np.linalg.norm(gradient(w,X,Y)))**2)/2) ):\n",
    "            eta = eta/2\n",
    "        '''\n",
    "        h = func(w,X,Y)\n",
    "        while(h > (func(w,X,Y) - (eta*(np.linalg.norm(gradient(w,X,Y))) **2)/2) ):\n",
    "            eta = eta/2\n",
    "            h = func((w-eta*(gradient(w,X,Y))),X,Y)\n",
    "        \n",
    "            \n",
    "    ###Gradient descent \n",
    "    for t in range(maxiter):\n",
    "        g = gradient(w,X,Y)\n",
    "\n",
    "        ###Gradient descent \n",
    "        if np.linalg.norm(g) <=tol:\n",
    "            break\n",
    "        else:\n",
    "            w = w- eta*g\n",
    "          #some printing\n",
    "        \n",
    "    return w"
   ]
  },
  {
   "cell_type": "code",
   "execution_count": 19,
   "metadata": {},
   "outputs": [],
   "source": [
    "w = gd(X,Y,4/3,ls=False, tol = 0.001, maxiter =1)"
   ]
  },
  {
   "cell_type": "code",
   "execution_count": 20,
   "metadata": {},
   "outputs": [
    {
     "data": {
      "text/plain": [
       "array([0.57735027, 0.57735027, 0.57735027])"
      ]
     },
     "execution_count": 20,
     "metadata": {},
     "output_type": "execute_result"
    }
   ],
   "source": [
    "w/np.linalg.norm(w)"
   ]
  },
  {
   "cell_type": "code",
   "execution_count": 21,
   "metadata": {},
   "outputs": [],
   "source": [
    "w = gd(X,Y,4/3,ls=False, tol = 0.001, maxiter =10)"
   ]
  },
  {
   "cell_type": "code",
   "execution_count": 22,
   "metadata": {},
   "outputs": [
    {
     "data": {
      "text/plain": [
       "array([0.57735027, 0.57735027, 0.57735027])"
      ]
     },
     "execution_count": 22,
     "metadata": {},
     "output_type": "execute_result"
    }
   ],
   "source": [
    "w/np.linalg.norm(w)"
   ]
  },
  {
   "cell_type": "code",
   "execution_count": 23,
   "metadata": {},
   "outputs": [
    {
     "data": {
      "text/plain": [
       "array([0.57735027, 0.57735027, 0.57735027])"
      ]
     },
     "execution_count": 23,
     "metadata": {},
     "output_type": "execute_result"
    }
   ],
   "source": [
    "w = gd(X,Y,4/3,ls=False, tol = 0.001, maxiter =100)\n",
    "w/np.linalg.norm(w)"
   ]
  },
  {
   "cell_type": "code",
   "execution_count": 24,
   "metadata": {},
   "outputs": [
    {
     "data": {
      "text/plain": [
       "array([0.57735027, 0.57735027, 0.57735027])"
      ]
     },
     "execution_count": 24,
     "metadata": {},
     "output_type": "execute_result"
    }
   ],
   "source": [
    "w = gd(X,Y,4/3,ls=False, tol = 0.001, maxiter =1000)\n",
    "w/np.linalg.norm(w)"
   ]
  },
  {
   "cell_type": "code",
   "execution_count": 25,
   "metadata": {},
   "outputs": [
    {
     "data": {
      "text/plain": [
       "array([0.57735027, 0.57735027, 0.57735027])"
      ]
     },
     "execution_count": 25,
     "metadata": {},
     "output_type": "execute_result"
    }
   ],
   "source": [
    "w = gd(X,Y,4/3,ls=False, tol = 0.001, maxiter =10000)\n",
    "w/np.linalg.norm(w)"
   ]
  },
  {
   "cell_type": "code",
   "execution_count": 26,
   "metadata": {},
   "outputs": [
    {
     "data": {
      "text/plain": [
       "[<matplotlib.lines.Line2D at 0x1221ec790>]"
      ]
     },
     "execution_count": 26,
     "metadata": {},
     "output_type": "execute_result"
    },
    {
     "data": {
      "image/png": "[encoded data removed]",
      "text/plain": [
       "<Figure size 432x288 with 1 Axes>"
      ]
     },
     "metadata": {
      "needs_background": "light"
     },
     "output_type": "display_data"
    }
   ],
   "source": [
    "x_point = np.array([1,1,-1,-1])\n",
    "y_point = np.array([1,-1,1,-1])\n",
    "label = Y\n",
    "plt.scatter(x_point, y_point, c = label)\n",
    "x = np.linspace(-2.5,2,120)\n",
    "y = w[0]/w[2] + w[1]/w[2] *x\n",
    "plt.plot(x,y)"
   ]
  },
  {
   "cell_type": "code",
   "execution_count": 27,
   "metadata": {},
   "outputs": [],
   "source": [
    "def gd(X,Y,eta,w,ls=True,tol = 0.001, maxiter = 1000,print_f=False,acc = False):\n",
    "    n,d = X.shape\n",
    "    b = np.ones((X.shape[0],X.shape[1]+1))\n",
    "    b[:,:-1] = X\n",
    "    X = b\n",
    "    #w = np.zeros((d+1))\n",
    "    res = []\n",
    "    \n",
    "    #Armijo's Rule\n",
    "    \n",
    "    if ls :\n",
    "        '''\n",
    "        h = func(w,X,Y)\n",
    "        while(func((w-eta*(np.linalg.norm(gradient(w,X,Y)))),X,Y) > (func(w,X,Y) - (eta*(np.linalg.norm(gradient(w,X,Y)))**2)/2) ):\n",
    "            eta = eta/2\n",
    "        '''\n",
    "        h = func(w,X,Y)\n",
    "        while(h > (func(w,X,Y) - (eta*(np.linalg.norm(gradient(w,X,Y))) **2)/2) ):\n",
    "            eta = eta/2\n",
    "            h = func((w-eta*(gradient(w,X,Y))),X,Y)\n",
    "        \n",
    "            \n",
    "    ###Gradient descent \n",
    "    for t in range(maxiter):\n",
    "        g = gradient(w,X,Y)\n",
    "        \n",
    "        #some printing\n",
    "        if print_f == True:\n",
    "            res.append(np.linalg.norm(w))\n",
    "        \n",
    "        elif acc == True:\n",
    "            pred = 0.0\n",
    "            Y_hat = np.inner(X,w) \n",
    "            for i in range(n):\n",
    "                b = Y_hat[i] * Y[i]\n",
    "                if b >0:\n",
    "                    pred +=1\n",
    "            pred = pred/n\n",
    "            res.append(pred)\n",
    "\n",
    "        else:\n",
    "            res.append(func(w,X,Y))   \n",
    "        ###Gradient descent \n",
    "        if np.linalg.norm(g) <=tol:\n",
    "            break\n",
    "        else:\n",
    "            w = w- eta*g\n",
    "          #some printing\n",
    "        \n",
    "    #print(w)\n",
    "    return res"
   ]
  },
  {
   "cell_type": "code",
   "execution_count": 28,
   "metadata": {},
   "outputs": [],
   "source": [
    "w = np.zeros((3))"
   ]
  },
  {
   "cell_type": "code",
   "execution_count": 29,
   "metadata": {},
   "outputs": [],
   "source": [
    "Y = [[-1],[1],[1],[-1]]\n",
    "Y = np.array(Y)"
   ]
  },
  {
   "cell_type": "code",
   "execution_count": 30,
   "metadata": {},
   "outputs": [],
   "source": [
    "tim = []\n",
    "tim = gd(X,Y,eta = 1,w = w,ls=False, tol = 0.001, maxiter =1000)"
   ]
  },
  {
   "cell_type": "code",
   "execution_count": 31,
   "metadata": {},
   "outputs": [
    {
     "data": {
      "text/plain": [
       "[<matplotlib.lines.Line2D at 0x122244b50>]"
      ]
     },
     "execution_count": 31,
     "metadata": {},
     "output_type": "execute_result"
    },
    {
     "data": {
      "image/png": "[encoded data removed]",
      "text/plain": [
       "<Figure size 432x288 with 1 Axes>"
      ]
     },
     "metadata": {
      "needs_background": "light"
     },
     "output_type": "display_data"
    }
   ],
   "source": [
    "plt.plot(tim,'ro')"
   ]
  },
  {
   "cell_type": "code",
   "execution_count": 32,
   "metadata": {},
   "outputs": [
    {
     "data": {
      "text/plain": [
       "[0.6931471805599453]"
      ]
     },
     "execution_count": 32,
     "metadata": {},
     "output_type": "execute_result"
    }
   ],
   "source": [
    "tim"
   ]
  },
  {
   "cell_type": "code",
   "execution_count": 33,
   "metadata": {},
   "outputs": [],
   "source": [
    "tim = []\n",
    "tim = gd(X,Y,eta = 4/3,w = w,ls=True, tol = 0.001, maxiter =1000)"
   ]
  },
  {
   "cell_type": "code",
   "execution_count": 34,
   "metadata": {},
   "outputs": [
    {
     "data": {
      "text/plain": [
       "[<matplotlib.lines.Line2D at 0x122303b80>]"
      ]
     },
     "execution_count": 34,
     "metadata": {},
     "output_type": "execute_result"
    },
    {
     "data": {
      "image/png": "[encoded data removed]",
      "text/plain": [
       "<Figure size 432x288 with 1 Axes>"
      ]
     },
     "metadata": {
      "needs_background": "light"
     },
     "output_type": "display_data"
    }
   ],
   "source": [
    "plt.plot(tim,'ro')"
   ]
  },
  {
   "cell_type": "code",
   "execution_count": 35,
   "metadata": {},
   "outputs": [],
   "source": [
    "tim = []\n",
    "tim = gd(X,Y,eta = 4/3,w = w,ls=True, tol = 0.001, maxiter =1000,print_f = True)"
   ]
  },
  {
   "cell_type": "code",
   "execution_count": 36,
   "metadata": {},
   "outputs": [
    {
     "data": {
      "text/plain": [
       "[<matplotlib.lines.Line2D at 0x12242e9d0>]"
      ]
     },
     "execution_count": 36,
     "metadata": {},
     "output_type": "execute_result"
    },
    {
     "data": {
      "image/png": "[encoded data removed]",
      "text/plain": [
       "<Figure size 432x288 with 1 Axes>"
      ]
     },
     "metadata": {
      "needs_background": "light"
     },
     "output_type": "display_data"
    }
   ],
   "source": [
    "plt.plot(tim,'ro')"
   ]
  },
  {
   "cell_type": "code",
   "execution_count": 37,
   "metadata": {},
   "outputs": [],
   "source": [
    "tim = []\n",
    "tim = gd(X,Y,eta = 4/3,w = w,ls=True, tol = 0.001, maxiter =1000,acc = True)"
   ]
  },
  {
   "cell_type": "code",
   "execution_count": 38,
   "metadata": {},
   "outputs": [
    {
     "data": {
      "text/plain": [
       "[<matplotlib.lines.Line2D at 0x12247f790>]"
      ]
     },
     "execution_count": 38,
     "metadata": {},
     "output_type": "execute_result"
    },
    {
     "data": {
      "image/png": "[encoded data removed]",
      "text/plain": [
       "<Figure size 432x288 with 1 Axes>"
      ]
     },
     "metadata": {
      "needs_background": "light"
     },
     "output_type": "display_data"
    }
   ],
   "source": [
    "plt.plot(tim,'ro')"
   ]
  },
  {
   "cell_type": "code",
   "execution_count": null,
   "metadata": {},
   "outputs": [],
   "source": []
  },
  {
   "cell_type": "code",
   "execution_count": null,
   "metadata": {},
   "outputs": [],
   "source": []
  },
  {
   "cell_type": "code",
   "execution_count": null,
   "metadata": {},
   "outputs": [],
   "source": []
  }
 ],
 "metadata": {
  "kernelspec": {
   "display_name": "Python 3",
   "language": "python",
   "name": "python3"
  },
  "language_info": {
   "codemirror_mode": {
    "name": "ipython",
    "version": 3
   },
   "file_extension": ".py",
   "mimetype": "text/x-python",
   "name": "python",
   "nbconvert_exporter": "python",
   "pygments_lexer": "ipython3",
   "version": "3.8.3"
  }
 },
 "nbformat": 4,
 "nbformat_minor": 4
}
