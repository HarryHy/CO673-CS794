{
 "cells": [
  {
   "cell_type": "code",
   "execution_count": 1,
   "metadata": {},
   "outputs": [],
   "source": [
    "import numpy as np"
   ]
  },
  {
   "cell_type": "code",
   "execution_count": 2,
   "metadata": {},
   "outputs": [],
   "source": [
    "def proxgrad (X,Y, eta, w, l, ls=True,tol = 0.001, maxiter =1000):\n",
    "    n,d = X.shape\n",
    "    \n",
    "    for t in range(maxiter):\n",
    "        if ls :\n",
    "            \n",
    "            while(func((w-eta*(gradient(w,X,Y))),X,Y) > (func(w,X,Y) - (eta*(np.linalg.norm(gradient(w,X,Y))) **2)/2) ):\n",
    "                eta = eta/2\n",
    "        w_prev = w        \n",
    "        z = w - eta * (gradient(w,X,Y))\n",
    "        w = prox(z,eta,d,l)\n",
    "        if abs(np.linalg.norm(w - w_prev)/eta) < tol:\n",
    "            break\n",
    "    return w"
   ]
  },
  {
   "cell_type": "code",
   "execution_count": 3,
   "metadata": {},
   "outputs": [],
   "source": [
    "def func(w,X,Y):\n",
    "    n,d = X.shape\n",
    "    f = 0.0\n",
    "    for i in range(n):\n",
    "        z = np.inner(X[i],w) - Y[i]\n",
    "        if -1<=z<=1:\n",
    "            f_i = 0.5*(z**2)\n",
    "        else:\n",
    "            f_i = abs(z) - 0.5\n",
    "        f += f_i\n",
    "    f = f/n\n",
    "    return f"
   ]
  },
  {
   "cell_type": "code",
   "execution_count": null,
   "metadata": {},
   "outputs": [],
   "source": []
  },
  {
   "cell_type": "code",
   "execution_count": 4,
   "metadata": {},
   "outputs": [],
   "source": [
    "def gradient(w,X,Y):\n",
    "    n,d = X.shape\n",
    "    G = np.zeros(d)\n",
    "    for i in range(n):\n",
    "        z = np.inner(X[i],w) - Y[i]\n",
    "        if abs(z) >= 1:\n",
    "            g_i = np.sign(z) * X[i]\n",
    "        else:\n",
    "            g_i = z * X[i]\n",
    "        G = G+g_i\n",
    "    G = G/n\n",
    "    return G"
   ]
  },
  {
   "cell_type": "code",
   "execution_count": 5,
   "metadata": {},
   "outputs": [],
   "source": [
    "def datagen(w, n = 100, d = 10,sigma = 1):\n",
    "    #I don't know how to set the default w value\n",
    "    '''\n",
    "    if set_w:\n",
    "       \n",
    "    '''\n",
    "    mean = np.zeros(d)\n",
    "    I = np.identity(d)\n",
    "    X = np.random.multivariate_normal(mean, I, n)\n",
    "    y = np.inner(w, X)+np.random.normal(0,sigma,n)\n",
    "    \n",
    "    return X,y"
   ]
  },
  {
   "cell_type": "code",
   "execution_count": 6,
   "metadata": {},
   "outputs": [],
   "source": [
    "def prox_template(w,eta):\n",
    "    return proximal_map"
   ]
  },
  {
   "cell_type": "code",
   "execution_count": 7,
   "metadata": {},
   "outputs": [],
   "source": [
    "def prox(w,eta,d,l):\n",
    "    # l for lambda\n",
    "    #l1 norm\n",
    "    z = np.zeros(d)\n",
    "    for i in range(d):\n",
    "        if w[i] <-eta*l:\n",
    "            z[i] = w[i] + eta*l\n",
    "        elif w[i] >eta*l:\n",
    "            z[i] = w[i] - eta*l\n",
    "        \n",
    "    return z"
   ]
  },
  {
   "cell_type": "code",
   "execution_count": 8,
   "metadata": {},
   "outputs": [],
   "source": [
    "w = np.zeros(10)\n",
    "w[0] = 1.0\n",
    "w[1] = -1.0\n",
    "w\n",
    "X,y = datagen(w)"
   ]
  },
  {
   "cell_type": "code",
   "execution_count": 9,
   "metadata": {},
   "outputs": [
    {
     "data": {
      "text/plain": [
       "array([0., 0., 0., 0., 0., 0., 0., 0., 0., 0.])"
      ]
     },
     "execution_count": 9,
     "metadata": {},
     "output_type": "execute_result"
    }
   ],
   "source": [
    "w_0 = np.zeros(X.shape[1])\n",
    "w_0"
   ]
  },
  {
   "cell_type": "code",
   "execution_count": 10,
   "metadata": {},
   "outputs": [],
   "source": [
    "w = proxgrad (X,y, 1, w_0, 0.1,ls=False,tol = 0.001, maxiter =1000)"
   ]
  },
  {
   "cell_type": "code",
   "execution_count": 11,
   "metadata": {},
   "outputs": [
    {
     "data": {
      "text/plain": [
       "array([ 0.92579747, -0.89901532,  0.        ,  0.        , -0.05815147,\n",
       "        0.        ,  0.        ,  0.        ,  0.        ,  0.        ])"
      ]
     },
     "execution_count": 11,
     "metadata": {},
     "output_type": "execute_result"
    }
   ],
   "source": [
    "w"
   ]
  },
  {
   "cell_type": "code",
   "execution_count": 12,
   "metadata": {},
   "outputs": [
    {
     "data": {
      "text/plain": [
       "array([-0.10003161,  0.10020462, -0.07104325,  0.08667328,  0.0998186 ,\n",
       "       -0.04989117,  0.07643465, -0.04966673,  0.07065711, -0.00607223])"
      ]
     },
     "execution_count": 12,
     "metadata": {},
     "output_type": "execute_result"
    }
   ],
   "source": [
    "g = gradient(w,X,y)\n",
    "g"
   ]
  },
  {
   "cell_type": "code",
   "execution_count": 13,
   "metadata": {},
   "outputs": [
    {
     "data": {
      "text/plain": [
       "0.3979915242315388"
      ]
     },
     "execution_count": 13,
     "metadata": {},
     "output_type": "execute_result"
    }
   ],
   "source": [
    "f = func(w,X,y)\n",
    "f"
   ]
  },
  {
   "cell_type": "code",
   "execution_count": 14,
   "metadata": {},
   "outputs": [
    {
     "data": {
      "text/plain": [
       "array([0., 0., 0., 0., 0., 0., 0., 0., 0., 0.])"
      ]
     },
     "execution_count": 14,
     "metadata": {},
     "output_type": "execute_result"
    }
   ],
   "source": [
    "w = proxgrad (X,y, 1, w_0, 1,ls=True,tol = 0.001, maxiter =1000)\n",
    "w"
   ]
  },
  {
   "cell_type": "code",
   "execution_count": 15,
   "metadata": {},
   "outputs": [
    {
     "data": {
      "text/plain": [
       "1.060581593187662"
      ]
     },
     "execution_count": 15,
     "metadata": {},
     "output_type": "execute_result"
    }
   ],
   "source": [
    "f = func(w,X,y)\n",
    "f"
   ]
  },
  {
   "cell_type": "code",
   "execution_count": 16,
   "metadata": {},
   "outputs": [
    {
     "data": {
      "text/plain": [
       "array([0., 0., 0., 0., 0., 0., 0., 0., 0., 0.])"
      ]
     },
     "execution_count": 16,
     "metadata": {},
     "output_type": "execute_result"
    }
   ],
   "source": [
    "w = proxgrad (X,y, 1, w_0, 10,ls=True,tol = 0.001, maxiter =1000)\n",
    "w"
   ]
  },
  {
   "cell_type": "code",
   "execution_count": 17,
   "metadata": {},
   "outputs": [
    {
     "data": {
      "text/plain": [
       "1.060581593187662"
      ]
     },
     "execution_count": 17,
     "metadata": {},
     "output_type": "execute_result"
    }
   ],
   "source": [
    "f = func(w,X,y)\n",
    "f"
   ]
  },
  {
   "cell_type": "code",
   "execution_count": 18,
   "metadata": {},
   "outputs": [],
   "source": [
    "#2.9\n",
    "import math\n",
    "def prox(w,eta,d,l):\n",
    "    # l for lambda\n",
    "    #l1 norm\n",
    "    z = np.zeros(d)\n",
    "    for i in range(d):\n",
    "        if abs(w[i]) > math.sqrt(2*l*eta):\n",
    "            z[i] = w[i]\n",
    "    return z"
   ]
  },
  {
   "cell_type": "code",
   "execution_count": 19,
   "metadata": {},
   "outputs": [],
   "source": [
    "def proxgrad (X,Y, eta, w, l, ls=True,tol = 0.001, maxiter =1000):\n",
    "    n,d = X.shape\n",
    "    f = []\n",
    "    for t in range(maxiter):\n",
    "        \n",
    "        if ls :\n",
    "            h = func(w,X,Y)\n",
    "            while(h > (func(w,X,Y) - (eta*(np.linalg.norm(gradient(w,X,Y))) **2)/2) ):\n",
    "                eta = eta/2\n",
    "                h = func((w-eta*(gradient(w,X,Y))),X,Y)\n",
    "        w_prev = w\n",
    "        z = w - eta * (gradient(w,X,Y))\n",
    "        w = prox(z,eta,d,l)\n",
    "        \n",
    "        if abs(np.linalg.norm(w - w_prev)/eta) < tol:\n",
    "            break\n",
    "        # reference: http://www.stat.cmu.edu/~ryantibs/convexopt/lectures/prox-grad.pdf\n",
    "        l0 = 0\n",
    "        for i in range(d):\n",
    "            if w[i] != 0 :\n",
    "                l0 +=1\n",
    "        f.append(func(w,X,Y) + l*l0)\n",
    "    return t,w,f"
   ]
  },
  {
   "cell_type": "code",
   "execution_count": 20,
   "metadata": {},
   "outputs": [],
   "source": [
    "w_input = w_0\n",
    "w_input[0] = 1\n",
    "w_input[1] = 0.2"
   ]
  },
  {
   "cell_type": "code",
   "execution_count": null,
   "metadata": {},
   "outputs": [],
   "source": []
  },
  {
   "cell_type": "code",
   "execution_count": 21,
   "metadata": {},
   "outputs": [],
   "source": [
    "t,w,f = proxgrad (X,y, 1, w_input, 0.1, ls=True,tol = 0.001, maxiter =1000)"
   ]
  },
  {
   "cell_type": "code",
   "execution_count": 22,
   "metadata": {},
   "outputs": [
    {
     "data": {
      "text/plain": [
       "46"
      ]
     },
     "execution_count": 22,
     "metadata": {},
     "output_type": "execute_result"
    }
   ],
   "source": [
    "t"
   ]
  },
  {
   "cell_type": "code",
   "execution_count": 23,
   "metadata": {},
   "outputs": [
    {
     "data": {
      "text/plain": [
       "array([1.00883254, 0.        , 0.        , 0.        , 0.        ,\n",
       "       0.        , 0.        , 0.        , 0.        , 0.        ])"
      ]
     },
     "execution_count": 23,
     "metadata": {},
     "output_type": "execute_result"
    }
   ],
   "source": [
    "w"
   ]
  },
  {
   "cell_type": "code",
   "execution_count": 24,
   "metadata": {},
   "outputs": [
    {
     "data": {
      "text/plain": [
       "[0.8697677193081536,\n",
       " 0.8697325606657424,\n",
       " 0.8697190585402524,\n",
       " 0.8697131128577171,\n",
       " 0.8697103202716452,\n",
       " 0.8697089665800787,\n",
       " 0.8697083000923554,\n",
       " 0.8697079694023937,\n",
       " 0.8697078046914911,\n",
       " 0.8697077224940136,\n",
       " 0.8697076814347006,\n",
       " 0.869707660914891,\n",
       " 0.8697076506574479,\n",
       " 0.8697076455293419,\n",
       " 0.8697076429654419,\n",
       " 0.8697076416835302,\n",
       " 0.8697076410425844,\n",
       " 0.8697076407221139,\n",
       " 0.869707640561879,\n",
       " 0.8697076404817623,\n",
       " 0.8697076404417035,\n",
       " 0.8697076404216737,\n",
       " 0.869707640411659,\n",
       " 0.8697076404066522,\n",
       " 0.8697076404041486,\n",
       " 0.8697076404028969,\n",
       " 0.8697076404022707,\n",
       " 0.8697076404019577,\n",
       " 0.8697076404018016,\n",
       " 0.8697076404017231,\n",
       " 0.8697076404016836,\n",
       " 0.8697076404016648,\n",
       " 0.8697076404016546,\n",
       " 0.8697076404016492,\n",
       " 0.8697076404016468,\n",
       " 0.8697076404016459,\n",
       " 0.8697076404016459,\n",
       " 0.8697076404016454,\n",
       " 0.8697076404016448,\n",
       " 0.8697076404016448,\n",
       " 0.8697076404016449,\n",
       " 0.8697076404016443,\n",
       " 0.869707640401644,\n",
       " 0.8697076404016439,\n",
       " 0.869707640401644,\n",
       " 0.8697076404016443]"
      ]
     },
     "execution_count": 24,
     "metadata": {},
     "output_type": "execute_result"
    }
   ],
   "source": [
    "f"
   ]
  },
  {
   "cell_type": "code",
   "execution_count": 25,
   "metadata": {},
   "outputs": [],
   "source": [
    "t,w,f = proxgrad (X,y, 1, w_input, 1, ls=True,tol = 0.001, maxiter =1000)"
   ]
  },
  {
   "cell_type": "code",
   "execution_count": 26,
   "metadata": {},
   "outputs": [
    {
     "data": {
      "text/plain": [
       "46"
      ]
     },
     "execution_count": 26,
     "metadata": {},
     "output_type": "execute_result"
    }
   ],
   "source": [
    "t"
   ]
  },
  {
   "cell_type": "code",
   "execution_count": 27,
   "metadata": {},
   "outputs": [
    {
     "data": {
      "text/plain": [
       "array([1.00883254, 0.        , 0.        , 0.        , 0.        ,\n",
       "       0.        , 0.        , 0.        , 0.        , 0.        ])"
      ]
     },
     "execution_count": 27,
     "metadata": {},
     "output_type": "execute_result"
    }
   ],
   "source": [
    "w"
   ]
  },
  {
   "cell_type": "code",
   "execution_count": 28,
   "metadata": {},
   "outputs": [
    {
     "data": {
      "text/plain": [
       "[1.7697677193081536,\n",
       " 1.7697325606657426,\n",
       " 1.7697190585402525,\n",
       " 1.7697131128577173,\n",
       " 1.769710320271645,\n",
       " 1.7697089665800787,\n",
       " 1.7697083000923555,\n",
       " 1.7697079694023938,\n",
       " 1.7697078046914911,\n",
       " 1.7697077224940136,\n",
       " 1.7697076814347006,\n",
       " 1.7697076609148912,\n",
       " 1.7697076506574478,\n",
       " 1.769707645529342,\n",
       " 1.769707642965442,\n",
       " 1.7697076416835302,\n",
       " 1.7697076410425843,\n",
       " 1.769707640722114,\n",
       " 1.769707640561879,\n",
       " 1.7697076404817622,\n",
       " 1.7697076404417036,\n",
       " 1.7697076404216738,\n",
       " 1.7697076404116592,\n",
       " 1.769707640406652,\n",
       " 1.7697076404041487,\n",
       " 1.7697076404028969,\n",
       " 1.7697076404022707,\n",
       " 1.7697076404019576,\n",
       " 1.7697076404018017,\n",
       " 1.7697076404017231,\n",
       " 1.7697076404016836,\n",
       " 1.769707640401665,\n",
       " 1.7697076404016547,\n",
       " 1.7697076404016492,\n",
       " 1.7697076404016467,\n",
       " 1.7697076404016459,\n",
       " 1.7697076404016459,\n",
       " 1.7697076404016454,\n",
       " 1.769707640401645,\n",
       " 1.769707640401645,\n",
       " 1.769707640401645,\n",
       " 1.7697076404016443,\n",
       " 1.769707640401644,\n",
       " 1.769707640401644,\n",
       " 1.769707640401644,\n",
       " 1.7697076404016443]"
      ]
     },
     "execution_count": 28,
     "metadata": {},
     "output_type": "execute_result"
    }
   ],
   "source": [
    "f"
   ]
  },
  {
   "cell_type": "code",
   "execution_count": 29,
   "metadata": {},
   "outputs": [],
   "source": [
    "t,w,f = proxgrad (X,y, 1, w_input, 10, ls=True,tol = 0.001, maxiter =1000)"
   ]
  },
  {
   "cell_type": "code",
   "execution_count": 30,
   "metadata": {},
   "outputs": [
    {
     "data": {
      "text/plain": [
       "1"
      ]
     },
     "execution_count": 30,
     "metadata": {},
     "output_type": "execute_result"
    }
   ],
   "source": [
    "t"
   ]
  },
  {
   "cell_type": "code",
   "execution_count": 31,
   "metadata": {},
   "outputs": [
    {
     "data": {
      "text/plain": [
       "array([0., 0., 0., 0., 0., 0., 0., 0., 0., 0.])"
      ]
     },
     "execution_count": 31,
     "metadata": {},
     "output_type": "execute_result"
    }
   ],
   "source": [
    "w"
   ]
  },
  {
   "cell_type": "code",
   "execution_count": 32,
   "metadata": {},
   "outputs": [
    {
     "data": {
      "text/plain": [
       "[1.060581593187662]"
      ]
     },
     "execution_count": 32,
     "metadata": {},
     "output_type": "execute_result"
    }
   ],
   "source": [
    "f"
   ]
  },
  {
   "cell_type": "code",
   "execution_count": 33,
   "metadata": {},
   "outputs": [],
   "source": [
    "# This one will not converge"
   ]
  },
  {
   "cell_type": "code",
   "execution_count": null,
   "metadata": {},
   "outputs": [],
   "source": []
  }
 ],
 "metadata": {
  "kernelspec": {
   "display_name": "Python 3",
   "language": "python",
   "name": "python3"
  },
  "language_info": {
   "codemirror_mode": {
    "name": "ipython",
    "version": 3
   },
   "file_extension": ".py",
   "mimetype": "text/x-python",
   "name": "python",
   "nbconvert_exporter": "python",
   "pygments_lexer": "ipython3",
   "version": "3.8.3"
  }
 },
 "nbformat": 4,
 "nbformat_minor": 4
}
