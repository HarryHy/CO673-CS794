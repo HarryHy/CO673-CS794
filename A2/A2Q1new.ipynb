{
 "cells": [
  {
   "cell_type": "code",
   "execution_count": 1,
   "metadata": {},
   "outputs": [],
   "source": [
    "import numpy as np\n",
    "import math \n",
    "import matplotlib.pyplot as plt"
   ]
  },
  {
   "cell_type": "code",
   "execution_count": 2,
   "metadata": {},
   "outputs": [],
   "source": [
    "def func2(X,y,alpha):\n",
    "    n,d = X.shape\n",
    "    s = np.zeros(d)\n",
    "    for i in range(n):\n",
    "        s+=alpha[i]*y[i]*X[i]\n",
    "    f = (np.linalg.norm(s)**2 )/2\n",
    "    return f"
   ]
  },
  {
   "cell_type": "code",
   "execution_count": 3,
   "metadata": {},
   "outputs": [],
   "source": [
    "def gradient(X,y,alpha):\n",
    "    n,d = X.shape\n",
    "    ayx = np.zeros(d)\n",
    "    for i in range(n):\n",
    "        ayx +=alpha[i]*y[i]*X[i]\n",
    "    g = np.zeros(n)\n",
    "    for i in range(n):\n",
    "        g[i] = y[i]*(np.inner(X[i],ayx))\n",
    "    return g"
   ]
  },
  {
   "cell_type": "code",
   "execution_count": 25,
   "metadata": {},
   "outputs": [],
   "source": [
    "X = [[1,1],[1,-1],[-1,1],[-1,-1]]\n",
    "X = np.array(X)\n",
    "\n",
    "Y = np.array([1,1,1,-1])\n",
    "alpha = np.array([1/3,1/3,1/3,1])\n"
   ]
  },
  {
   "cell_type": "code",
   "execution_count": 5,
   "metadata": {},
   "outputs": [],
   "source": [
    "def Cauchy(alpha, y,z, X):\n",
    "    n,d = X.shape\n",
    "    ayx = np.zeros(d)\n",
    "    azyx = np.zeros(d)\n",
    "    for i in range(n):\n",
    "        ayx += alpha[i]*y[i]*X[i]\n",
    "        azyx += (z[i] - alpha[i])*y[i]*X[i]\n",
    "    upper = -np.inner(azyx,ayx)\n",
    "    lower = np.linalg.norm(azyx)**2\n",
    "    eta = upper/lower\n",
    "    if eta < 0:\n",
    "        eta = 0\n",
    "    if eta > 1:\n",
    "        eta = 1\n",
    "    return eta"
   ]
  },
  {
   "cell_type": "code",
   "execution_count": 6,
   "metadata": {},
   "outputs": [],
   "source": [
    "def pol(X, y, alpha):\n",
    "    n,d = X.shape\n",
    "    w = np.zeros(d)\n",
    "    for i in range(n):\n",
    "        w +=alpha[i]*y[i]*X[i]\n",
    "    z = np.zeros(n)\n",
    "    pos = True\n",
    "    neg = True\n",
    "    beta = np.dot(X,w)\n",
    "    positive_value = []\n",
    "    negative_value = []\n",
    "    for i in range(n):\n",
    "        if y[i] == 1:\n",
    "            positive_value.append(beta[i])\n",
    "        else:\n",
    "            negative_value.append(beta[i])\n",
    "    for i in range(n):\n",
    "        if y[i] == 1 and beta [i] == min(positive_value) and pos:\n",
    "            pos = False\n",
    "            z[i] = 1\n",
    "        if y[i] == -1 and beta[i] == min(negative_value) and neg:\n",
    "            pos = False\n",
    "            z[i] = 1\n",
    "    return z"
   ]
  },
  {
   "cell_type": "code",
   "execution_count": 9,
   "metadata": {},
   "outputs": [],
   "source": [
    "def condgrad(X,y,alpha,stepsize,tol = 1e-3, maxiter = 1000):\n",
    "    f_value = []\n",
    "    cc = 0\n",
    "    for t in range(maxiter):\n",
    "        f_t = func2(X,y,alpha)\n",
    "        f_value.append(f_t)\n",
    "        g = gradient(X,y,alpha)\n",
    "        z = pol(X, y, alpha)\n",
    "        \n",
    "        #print(\"valiue is \", np.dot(alpha-z,g))\n",
    "        if np.dot(alpha-z,g) <= tol:\n",
    "            break\n",
    "        \n",
    "        \n",
    "        if stepsize == 'const':\n",
    "            eta = 2/(t+2)\n",
    "        else:\n",
    "            eta = Cauchy(alpha,y,z,X)\n",
    "        alpha = (1.0-eta)*alpha + eta*z\n",
    "        \n",
    "    return alpha,f_value"
   ]
  },
  {
   "cell_type": "code",
   "execution_count": 16,
   "metadata": {},
   "outputs": [],
   "source": [
    "beta,f_value1 = condgrad(X,Y,alpha,'const',tol = 1e-3, maxiter = 100)"
   ]
  },
  {
   "cell_type": "code",
   "execution_count": 17,
   "metadata": {},
   "outputs": [
    {
     "data": {
      "text/plain": [
       "array([0.       , 0.5049505, 0.4950495, 1.       ])"
      ]
     },
     "execution_count": 17,
     "metadata": {},
     "output_type": "execute_result"
    }
   ],
   "source": [
    "beta"
   ]
  },
  {
   "cell_type": "code",
   "execution_count": 18,
   "metadata": {},
   "outputs": [
    {
     "data": {
      "text/plain": [
       "0.980198019801981"
      ]
     },
     "execution_count": 18,
     "metadata": {},
     "output_type": "execute_result"
    }
   ],
   "source": [
    "n,d = X.shape\n",
    "w = np.zeros(d)\n",
    "for i in range(len(beta)):\n",
    "     w +=beta[i]*Y[i]*X[i]\n",
    "b = 1/Y[1] - np.dot(w,X[1])\n",
    "b"
   ]
  },
  {
   "cell_type": "code",
   "execution_count": 19,
   "metadata": {},
   "outputs": [
    {
     "data": {
      "text/plain": [
       "[<matplotlib.lines.Line2D at 0x1208a91f0>]"
      ]
     },
     "execution_count": 19,
     "metadata": {},
     "output_type": "execute_result"
    },
    {
     "data": {
      "image/png": "[encoded data removed]",
      "text/plain": [
       "<Figure size 432x288 with 1 Axes>"
      ]
     },
     "metadata": {
      "needs_background": "light"
     },
     "output_type": "display_data"
    }
   ],
   "source": [
    "#1.4\n",
    "x_point = np.array([1,1,-1,-1])\n",
    "y_point = np.array([1,-1,1,-1])\n",
    "label = Y\n",
    "plt.scatter(x_point, y_point, c = label)\n",
    "x = np.linspace(-2.5,1.5,120)\n",
    "y = -w[0]/w[1] -b/w[1] *x\n",
    "plt.plot(x,y)\n",
    "#w0x+w1y + b = 0\n",
    "#y = -w0/w1x -b/w1"
   ]
  },
  {
   "cell_type": "code",
   "execution_count": 20,
   "metadata": {},
   "outputs": [],
   "source": [
    "#1.5\n",
    "beta,f_value1 = condgrad(X,Y,alpha,'const',tol = 1e-3, maxiter = 100)\n",
    "beta,f_value2 = condgrad(X,Y,alpha,'cont',tol = 1e-3, maxiter = 100)"
   ]
  },
  {
   "cell_type": "code",
   "execution_count": 26,
   "metadata": {},
   "outputs": [],
   "source": [
    "t1 = list(range(0, 100))\n",
    "t2 = []\n",
    "for i in range(len(t1)):\n",
    "    t2.append(8/(t1[i]+3))"
   ]
  },
  {
   "cell_type": "code",
   "execution_count": 27,
   "metadata": {},
   "outputs": [
    {
     "data": {
      "text/plain": [
       "<matplotlib.legend.Legend at 0x120bd2dc0>"
      ]
     },
     "execution_count": 27,
     "metadata": {},
     "output_type": "execute_result"
    },
    {
     "data": {
      "image/png": "[encoded data removed]",
      "text/plain": [
       "<Figure size 432x288 with 1 Axes>"
      ]
     },
     "metadata": {
      "needs_background": "light"
     },
     "output_type": "display_data"
    }
   ],
   "source": [
    "plt.plot(t1,t2,label=\"8/t+3\")\n",
    "plt.plot(t1,f_value1,label = 'Const')\n",
    "plt.plot(t1,f_value2, label = 'Cauchy')\n",
    "plt.gca().legend(('8/t+3','Const','Cauchy'))"
   ]
  },
  {
   "cell_type": "code",
   "execution_count": null,
   "metadata": {},
   "outputs": [],
   "source": []
  }
 ],
 "metadata": {
  "kernelspec": {
   "display_name": "Python 3",
   "language": "python",
   "name": "python3"
  },
  "language_info": {
   "codemirror_mode": {
    "name": "ipython",
    "version": 3
   },
   "file_extension": ".py",
   "mimetype": "text/x-python",
   "name": "python",
   "nbconvert_exporter": "python",
   "pygments_lexer": "ipython3",
   "version": "3.8.3"
  }
 },
 "nbformat": 4,
 "nbformat_minor": 4
}
